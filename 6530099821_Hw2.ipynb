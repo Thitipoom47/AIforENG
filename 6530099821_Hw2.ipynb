{
  "nbformat": 4,
  "nbformat_minor": 0,
  "metadata": {
    "kernelspec": {
      "display_name": "Python 3",
      "language": "python",
      "name": "python3"
    },
    "language_info": {
      "codemirror_mode": {
        "name": "ipython",
        "version": 3
      },
      "file_extension": ".py",
      "mimetype": "text/x-python",
      "name": "python",
      "nbconvert_exporter": "python",
      "pygments_lexer": "ipython3",
      "version": "3.7.0"
    },
    "colab": {
      "provenance": [],
      "include_colab_link": true
    }
  },
  "cells": [
    {
      "cell_type": "markdown",
      "metadata": {
        "id": "view-in-github",
        "colab_type": "text"
      },
      "source": [
        "<a href=\"https://colab.research.google.com/github/Thitipoom47/AIforENG/blob/main/6530099821_Hw2.ipynb\" target=\"_parent\"><img src=\"https://colab.research.google.com/assets/colab-badge.svg\" alt=\"Open In Colab\"/></a>"
      ]
    },
    {
      "cell_type": "code",
      "metadata": {
        "id": "qHmRtLRe6Mw0",
        "colab": {
          "base_uri": "https://localhost:8080/",
          "height": 248
        },
        "outputId": "7b3fb434-acf9-4c3d-b0f8-13bdf67c87ac"
      },
      "source": [
        "import networkx as nx\n",
        "\n",
        "g = nx.DiGraph()\n",
        "edges = {'S':'ABD','A':'BCE','B':'CDEG','C':'E','D':'EG','E':'G'}\n",
        "edge_list = []\n",
        "for s in edges.keys():\n",
        "  for c in edges[s]:\n",
        "    edge_list.append((s,c))\n",
        "g.add_edges_from(edge_list)\n",
        "nx.draw_networkx(g)"
      ],
      "execution_count": null,
      "outputs": [
        {
          "output_type": "display_data",
          "data": {
            "image/png": "[encoded data removed]",
            "text/plain": [
              "<Figure size 432x288 with 1 Axes>"
            ]
          },
          "metadata": {
            "tags": []
          }
        }
      ]
    },
    {
      "cell_type": "markdown",
      "source": [
        "# BFS"
      ],
      "metadata": {
        "id": "yyofaDpY3bim"
      }
    },
    {
      "cell_type": "code",
      "source": [
        "last_index = 0\n",
        "visited_node = []\n",
        "\n",
        "def gen_successors(node):\n",
        "    global last_index\n",
        "    graph = {'S':'ABD','A':'BCE','B':'CDEG','C':'E','D':'EG','E':'G'}\n",
        "    node_id = node[1]\n",
        "    level = node[3]\n",
        "    ret = []\n",
        "    for c in graph[node[0]]:\n",
        "        ret += [(c,last_index+1,node[1],node[3]+1)]\n",
        "        last_index += 1\n",
        "    return ret\n",
        "\n",
        "def is_goal(node):\n",
        "    return node[0] == 'G'\n",
        "\n",
        "def insert_all(node,fringe):\n",
        "    children = gen_successors(node)\n",
        "    for child in children:\n",
        "        fringe.append(child)\n",
        "    # print(fringe)\n",
        "\n",
        "def show_result(g):\n",
        "    global visited_node\n",
        "    current_node = g\n",
        "    parent_index = current_node[1]\n",
        "    while True:\n",
        "        print(current_node[0],end=' ')\n",
        "        parent_index = current_node[2]\n",
        "        if parent_index == -1:\n",
        "            break\n",
        "        current_node = visited_node[parent_index]\n",
        "\n",
        "def bfs(start_node,limited_level):\n",
        "    global last_index\n",
        "    global visited_node\n",
        "    last_index = 0\n",
        "    fringe = [start_node]\n",
        "    print(fringe)\n",
        "    visited_node = {}\n",
        "    while True:\n",
        "        if len(fringe) == 0:\n",
        "            print('Not Found')\n",
        "            break\n",
        "        front = fringe[0]\n",
        "        visited_node[front[1]] = front\n",
        "        fringe = fringe[1:]\n",
        "        if is_goal(front):\n",
        "            show_result(front)\n",
        "            return True\n",
        "        if front[3] == limited_level:\n",
        "            continue\n",
        "        insert_all(front,fringe)\n",
        "\n",
        "bfs(('S',0,-1,0),30)\n",
        "\n"
      ],
      "metadata": {
        "colab": {
          "base_uri": "https://localhost:8080/"
        },
        "id": "3zVjp6P83eEV",
        "outputId": "738442b1-8515-4d90-96e7-ceb4413aafbb"
      },
      "execution_count": null,
      "outputs": [
        {
          "output_type": "stream",
          "name": "stdout",
          "text": [
            "[('S', 0, -1, 0)]\n",
            "G B S "
          ]
        },
        {
          "output_type": "execute_result",
          "data": {
            "text/plain": [
              "True"
            ]
          },
          "metadata": {},
          "execution_count": 1
        }
      ]
    },
    {
      "cell_type": "markdown",
      "metadata": {
        "id": "x-p-JxXUx1C_"
      },
      "source": [
        "# DFS"
      ]
    },
    {
      "cell_type": "code",
      "metadata": {
        "id": "phxo2cFpx0zD",
        "colab": {
          "base_uri": "https://localhost:8080/"
        },
        "outputId": "fffef3cd-37e0-4aea-8f9c-4b3012400d7d"
      },
      "source": [
        "last_index = 0\n",
        "visited_node = []\n",
        "\n",
        "def gen_successors(node):\n",
        "    global last_index\n",
        "    graph = {'S':'ABD','A':'BCE','B':'CDEG','C':'E','D':'EG','E':'G'}\n",
        "    node_id = node[1]\n",
        "    level = node[3]\n",
        "    ret = []\n",
        "    for c in graph[node[0]]:\n",
        "        ret += [(c,last_index+1,node[1],node[3]+1)]\n",
        "        last_index += 1\n",
        "    return ret\n",
        "\n",
        "def is_goal(node):\n",
        "    return node[0] == 'G'\n",
        "\n",
        "def insert_all(node,fringe):\n",
        "    children = gen_successors(node)\n",
        "    for child in children:\n",
        "        fringe[0:0] = [child]\n",
        "    # print(fringe)\n",
        "\n",
        "def show_result(g):\n",
        "    global visited_node\n",
        "    current_node = g\n",
        "    parent_index = current_node[1]\n",
        "    while True:\n",
        "        print(current_node[0],end=' ')\n",
        "        parent_index = current_node[2]\n",
        "        if parent_index == -1:\n",
        "            break\n",
        "        current_node = visited_node[parent_index]\n",
        "\n",
        "def dfs(start_node,limited_level):\n",
        "    global last_index\n",
        "    global visited_node\n",
        "    last_index = 0\n",
        "    fringe = [start_node]\n",
        "    print(fringe)\n",
        "    visited_node = {}\n",
        "    while True:\n",
        "        if len(fringe) == 0:\n",
        "            print('Not Found')\n",
        "            break\n",
        "        front = fringe[0]\n",
        "        visited_node[front[1]] = front\n",
        "        fringe = fringe[1:]\n",
        "        if is_goal(front):\n",
        "            show_result(front)\n",
        "            return True\n",
        "        if front[3] == limited_level:\n",
        "            continue\n",
        "        insert_all(front,fringe)\n",
        "\n",
        "dfs(('S',0,-1,0),30)\n",
        "\n"
      ],
      "execution_count": null,
      "outputs": [
        {
          "output_type": "stream",
          "name": "stdout",
          "text": [
            "[('S', 0, -1, 0)]\n",
            "G D S "
          ]
        },
        {
          "output_type": "execute_result",
          "data": {
            "text/plain": [
              "True"
            ]
          },
          "metadata": {},
          "execution_count": 2
        }
      ]
    },
    {
      "cell_type": "markdown",
      "metadata": {
        "id": "NwGEhzf9AUDG"
      },
      "source": [
        "# IDS"
      ]
    },
    {
      "cell_type": "code",
      "metadata": {
        "id": "djsBI4k0exsq",
        "colab": {
          "base_uri": "https://localhost:8080/",
          "height": 218
        },
        "outputId": "14e0cf1b-fec1-4682-9a62-fc3c6b61d41f"
      },
      "source": [
        "last_index = 0\n",
        "visited_node = []\n",
        "\n",
        "def gen_successors(node):\n",
        "    global last_index\n",
        "    graph = {'S':'ABD','A':'BCE','B':'CDEG','C':'E','D':'EG','E':'G'}\n",
        "    node_id = node[1]\n",
        "    level = node[3]\n",
        "    ret = []\n",
        "    for c in graph[node[0]]:\n",
        "        ret += [(c,last_index+1,node[1],node[3]+1)]\n",
        "        last_index += 1\n",
        "    return ret\n",
        "\n",
        "def is_goal(node):\n",
        "    return node[0] == 'G'\n",
        "\n",
        "def insert_all(node,fringe):\n",
        "    children = gen_successors(node)\n",
        "    for child in children:\n",
        "        fringe[0:0] = [child]\n",
        "    print(fringe)\n",
        "\n",
        "def show_result(g):\n",
        "    global visited_node\n",
        "    current_node = g\n",
        "    parent_index = current_node[1]\n",
        "    while True:\n",
        "        print(current_node[0],end=' ')\n",
        "        parent_index = current_node[2]\n",
        "        if parent_index == -1:\n",
        "            break\n",
        "        current_node = visited_node[parent_index]\n",
        "\n",
        "def dfs(start_node,limited_level):\n",
        "    global last_index\n",
        "    global visited_node\n",
        "    last_index = 0\n",
        "    fringe = [start_node]\n",
        "    print(fringe)\n",
        "    visited_node = {}\n",
        "    while True:\n",
        "        if len(fringe) == 0:\n",
        "            print('Not Found')\n",
        "            break\n",
        "        front = fringe[0]\n",
        "        visited_node[front[1]] = front\n",
        "        fringe = fringe[1:]\n",
        "        if is_goal(front):\n",
        "            show_result(front)\n",
        "            return True\n",
        "        if front[3] == limited_level:\n",
        "            continue\n",
        "        insert_all(front,fringe)\n",
        "\n",
        "for i in range(100):\n",
        "    print('Limit at level '+str(i))\n",
        "    if dfs(('S',0,-1,0),i):\n",
        "        break\n"
      ],
      "execution_count": null,
      "outputs": [
        {
          "output_type": "stream",
          "text": [
            "Limit at level 0\n",
            "[('S', 0, -1, 0)]\n",
            "Not Found\n",
            "Limit at level 1\n",
            "[('S', 0, -1, 0)]\n",
            "[('D', 3, 0, 1), ('B', 2, 0, 1), ('A', 1, 0, 1)]\n",
            "Not Found\n",
            "Limit at level 2\n",
            "[('S', 0, -1, 0)]\n",
            "[('D', 3, 0, 1), ('B', 2, 0, 1), ('A', 1, 0, 1)]\n",
            "[('G', 5, 3, 2), ('E', 4, 3, 2), ('B', 2, 0, 1), ('A', 1, 0, 1)]\n",
            "G D S "
          ],
          "name": "stdout"
        }
      ]
    },
    {
      "cell_type": "markdown",
      "source": [
        "# IDS for 8-Puzzle\n",
        "\n",
        "HW หาจำนวน Node ที่ถูก remove จาก front ของ fringe ของวิธี BFS เทียบกับ IDS ของปัญหา 8 Puzzle เซลล์ด้านล่างนี้เป็นเซลล์ของ IDS ให้แก้โปรแกรมเพื่อหาจำนวน Node ที่ถูก remove และถูก insert เข้าไปใน fringe"
      ],
      "metadata": {
        "id": "DrClth0UM9yy"
      }
    },
    {
      "cell_type": "code",
      "metadata": {
        "id": "YUNwV1v2exsu"
      },
      "source": [
        "last_index = 0\n",
        "\n",
        "def gen_successors(node):\n",
        "    global last_index\n",
        "    node_id = node[1]\n",
        "    level = node[3]\n",
        "    ret = []\n",
        "    state = node[0]\n",
        "    loc = int(state[0])\n",
        "    puzzle = state[1:]\n",
        "    if loc % 3 != 0:\n",
        "        new_state = str(loc-1) + puzzle[:loc-1] + puzzle[loc] + puzzle[loc-1] + puzzle[loc+1:]\n",
        "        ret += [(new_state,last_index+1,node[1],node[3]+1)]\n",
        "        last_index += 1\n",
        "        # print('L'+new_state)\n",
        "    if (loc+1) % 3 != 0:\n",
        "        new_state = str(loc+1) + puzzle[:loc] + puzzle[loc+1] + puzzle[loc] + puzzle[loc+2:]\n",
        "        ret += [(new_state,last_index+1,node[1],node[3]+1)]\n",
        "        last_index += 1\n",
        "        # print('R'+new_state)\n",
        "    if loc >= 3:\n",
        "        new_state = str(loc-3) + puzzle[:loc-3] + puzzle[loc] + puzzle[loc-2:loc] + puzzle[loc-3] + puzzle[loc+1:]\n",
        "        ret += [(new_state,last_index+1,node[1],node[3]+1)]\n",
        "        last_index += 1\n",
        "        # print('U'+new_state)\n",
        "    if loc <= 5:\n",
        "        new_state = str(loc+3) + puzzle[:loc] + puzzle[loc+3] + puzzle[loc+1:loc+3] + puzzle[loc] + puzzle[loc+4:]\n",
        "        ret += [(new_state,last_index+1,node[1],node[3]+1)]\n",
        "        last_index += 1\n",
        "        # print('D'+new_state)\n",
        "    return ret\n",
        "\n",
        "def is_goal(node):\n",
        "    return node[0] == '8123456780'\n",
        "\n",
        "def insert_all(node,fringe):\n",
        "    children = gen_successors(node)\n",
        "    for child in children:\n",
        "        fringe[0:0] = [child]\n",
        "    # print(fringe)\n",
        "\n",
        "def show_result(g,visited_node):\n",
        "    current_node = g\n",
        "    parent_index = current_node[1]\n",
        "    while True:\n",
        "        print(current_node[0][1:4])\n",
        "        print(current_node[0][4:7])\n",
        "        print(current_node[0][7:])\n",
        "        print()\n",
        "        parent_index = current_node[2]\n",
        "        if parent_index == -1:\n",
        "            break\n",
        "        current_node = visited_node[parent_index]\n",
        "\n",
        "def dfs(start_node,limited_level):\n",
        "    global last_index\n",
        "    last_index = 0\n",
        "    fringe = [start_node]\n",
        "    visited_node = {}\n",
        "    while True:\n",
        "        if len(fringe) == 0:\n",
        "            print('Not Found')\n",
        "            break\n",
        "        front = fringe[0]\n",
        "        visited_node[front[1]] = front\n",
        "        fringe = fringe[1:]\n",
        "        if is_goal(front):\n",
        "            show_result(front,visited_node)\n",
        "            return True\n",
        "        if front[3] == limited_level:\n",
        "            continue\n",
        "        insert_all(front,fringe)\n",
        "\n",
        "for i in range(14):\n",
        "    print(\"Limit Search at level \"+str(i+1))\n",
        "    if dfs(('8413256780',0,-1,0),i):\n",
        "        break\n",
        "\n"
      ],
      "execution_count": null,
      "outputs": []
    },
    {
      "cell_type": "markdown",
      "metadata": {
        "id": "_kcsLzd8Ym6t"
      },
      "source": [
        "# Hint"
      ]
    },
    {
      "cell_type": "code",
      "metadata": {
        "id": "TQeUVGCLexsw",
        "colab": {
          "base_uri": "https://localhost:8080/"
        },
        "outputId": "19ef381b-5a32-4052-bfe4-d0cbeb58d5a9"
      },
      "source": [
        "data=[1,2,3,4,5,6,7]\n",
        "data.pop(-1)\n",
        "data"
      ],
      "execution_count": null,
      "outputs": [
        {
          "output_type": "execute_result",
          "data": {
            "text/plain": [
              "[1, 2, 3, 4, 5, 6]"
            ]
          },
          "metadata": {
            "tags": []
          },
          "execution_count": 11
        }
      ]
    },
    {
      "cell_type": "code",
      "metadata": {
        "colab": {
          "base_uri": "https://localhost:8080/"
        },
        "id": "JHotufHvXpOM",
        "outputId": "8171659b-4a74-42c5-d1b8-7a12f940f933"
      },
      "source": [
        "data.insert(0,'a')\n",
        "data.insert(-1,'b')\n",
        "data.append('c')\n",
        "data"
      ],
      "execution_count": null,
      "outputs": [
        {
          "output_type": "execute_result",
          "data": {
            "text/plain": [
              "['a', 1, 2, 3, 4, 5, 'b', 6, 'c']"
            ]
          },
          "metadata": {
            "tags": []
          },
          "execution_count": 12
        }
      ]
    },
    {
      "cell_type": "code",
      "metadata": {
        "colab": {
          "base_uri": "https://localhost:8080/"
        },
        "id": "HFO1T11xYd0l",
        "outputId": "6fbe2f69-b8c7-412b-f194-567d134db802"
      },
      "source": [
        "data[:-1]"
      ],
      "execution_count": null,
      "outputs": [
        {
          "output_type": "execute_result",
          "data": {
            "text/plain": [
              "['a', 1, 2, 3, 4, 5, 'b', 6]"
            ]
          },
          "metadata": {
            "tags": []
          },
          "execution_count": 14
        }
      ]
    },
    {
      "cell_type": "code",
      "metadata": {
        "id": "jaH0PKWFX2yG"
      },
      "source": [],
      "execution_count": null,
      "outputs": []
    },
    {
      "cell_type": "markdown",
      "metadata": {
        "id": "9cfnOVwV-WlP"
      },
      "source": [
        "# BFS 8 Puzzle\n",
        "\n",
        "HW แก้โปรแกรมเพื่อหาจำนวน Node ที่ถูก remove จาก fringe และจำนวน Node ที่ถูกใส่เข้าไปใน fringe"
      ]
    },
    {
      "cell_type": "code",
      "metadata": {
        "colab": {
          "base_uri": "https://localhost:8080/"
        },
        "id": "kstM9yXp-YWx",
        "outputId": "6e7bbfdd-3baf-4b49-a255-a2ee4cfb0f82"
      },
      "source": [
        "last_index = 0\n",
        "node_insert_counter = 0\n",
        "node_remove_counter = 0\n",
        "\n",
        "def gen_successors(node):\n",
        "    global last_index\n",
        "    node_id = node[1]\n",
        "    level = node[3]\n",
        "    ret = []\n",
        "    state = node[0]\n",
        "    loc = int(state[0])\n",
        "    puzzle = state[1:]\n",
        "    if loc % 3 != 0:\n",
        "        new_state = str(loc-1) + puzzle[:loc-1] + puzzle[loc] + puzzle[loc-1] + puzzle[loc+1:]\n",
        "        ret += [(new_state,last_index+1,node[1],node[3]+1)]\n",
        "        last_index += 1\n",
        "    if (loc+1) % 3 != 0:\n",
        "        new_state = str(loc+1) + puzzle[:loc] + puzzle[loc+1] + puzzle[loc] + puzzle[loc+2:]\n",
        "        ret += [(new_state,last_index+1,node[1],node[3]+1)]\n",
        "        last_index += 1\n",
        "    if loc >= 3:\n",
        "        new_state = str(loc-3) + puzzle[:loc-3] + puzzle[loc] + puzzle[loc-2:loc] + puzzle[loc-3] + puzzle[loc+1:]\n",
        "        ret += [(new_state,last_index+1,node[1],node[3]+1)]\n",
        "        last_index += 1\n",
        "    if loc <= 5:\n",
        "        new_state = str(loc+3) + puzzle[:loc] + puzzle[loc+3] + puzzle[loc+1:loc+3] + puzzle[loc] + puzzle[loc+4:]\n",
        "        ret += [(new_state,last_index+1,node[1],node[3]+1)]\n",
        "        last_index += 1\n",
        "    return ret\n",
        "\n",
        "def is_goal(node):\n",
        "    return node[0] == '8123456780'\n",
        "\n",
        "def insert_all(node, fringe):\n",
        "    global node_insert_counter\n",
        "    children = gen_successors(node)\n",
        "    for child in children:\n",
        "        fringe.append(child)\n",
        "        node_insert_counter += 1\n",
        "\n",
        "def show_result(g, visited_node):\n",
        "    current_node = g\n",
        "    while True:\n",
        "        print(current_node[0][1:4])\n",
        "        print(current_node[0][4:7])\n",
        "        print(current_node[0][7:])\n",
        "        print()\n",
        "        parent_index = current_node[2]\n",
        "        if parent_index == -1:\n",
        "            break\n",
        "        current_node = visited_node[parent_index]\n",
        "\n",
        "def bfs(start_node):\n",
        "    global last_index, node_insert_counter, node_remove_counter\n",
        "    last_index = 0\n",
        "    node_insert_counter = 0\n",
        "    node_remove_counter = 0\n",
        "    fringe = [start_node]\n",
        "    visited_node = {}\n",
        "    while True:\n",
        "        if len(fringe) == 0:\n",
        "            print('Not Found')\n",
        "            break\n",
        "        front = fringe[0]\n",
        "        visited_node[front[1]] = front\n",
        "        fringe = fringe[1:]\n",
        "        node_remove_counter += 1\n",
        "        if is_goal(front):\n",
        "            show_result(front, visited_node)\n",
        "            print(f\"Nodes inserted: {node_insert_counter}\")\n",
        "            print(f\"Nodes removed: {node_remove_counter}\")\n",
        "            return True\n",
        "        insert_all(front, fringe)\n",
        "\n",
        "bfs(('8413256780', 0, -1, 0))\n",
        "\n",
        "\n",
        "\n"
      ],
      "execution_count": null,
      "outputs": [
        {
          "output_type": "stream",
          "name": "stdout",
          "text": [
            "123\n",
            "456\n",
            "780\n",
            "\n",
            "123\n",
            "456\n",
            "708\n",
            "\n",
            "123\n",
            "406\n",
            "758\n",
            "\n",
            "103\n",
            "426\n",
            "758\n",
            "\n",
            "013\n",
            "426\n",
            "758\n",
            "\n",
            "413\n",
            "026\n",
            "758\n",
            "\n",
            "413\n",
            "206\n",
            "758\n",
            "\n",
            "413\n",
            "256\n",
            "708\n",
            "\n",
            "413\n",
            "256\n",
            "780\n",
            "\n",
            "Nodes inserted: 7042\n",
            "Nodes removed: 2496\n"
          ]
        },
        {
          "output_type": "execute_result",
          "data": {
            "text/plain": [
              "True"
            ]
          },
          "metadata": {},
          "execution_count": 12
        }
      ]
    },
    {
      "cell_type": "markdown",
      "source": [
        "# IDS for 8-Puzzle"
      ],
      "metadata": {
        "id": "NCjWGcegMhU3"
      }
    },
    {
      "cell_type": "code",
      "metadata": {
        "id": "UAdKqCDs_FeF",
        "outputId": "7665ac52-65e2-401b-ccfb-83f47c38bc74",
        "colab": {
          "base_uri": "https://localhost:8080/"
        }
      },
      "source": [
        "last_index = 0\n",
        "\n",
        "def gen_successors(node):\n",
        "    global last_index\n",
        "    node_id = node[1]\n",
        "    level = node[3]\n",
        "    ret = []\n",
        "    state = node[0]\n",
        "    loc = int(state[0])\n",
        "    puzzle = state[1:]\n",
        "    if loc % 3 != 0:\n",
        "        new_state = str(loc-1) + puzzle[:loc-1] + puzzle[loc] + puzzle[loc-1] + puzzle[loc+1:]\n",
        "        ret.append((new_state, last_index+1, node[1], node[3]+1))\n",
        "        last_index += 1\n",
        "        # print('L' + new_state)\n",
        "    if (loc+1) % 3 != 0:\n",
        "        new_state = str(loc+1) + puzzle[:loc] + puzzle[loc+1] + puzzle[loc] + puzzle[loc+2:]\n",
        "        ret.append((new_state, last_index+1, node[1], node[3]+1))\n",
        "        last_index += 1\n",
        "        # print('R' + new_state)\n",
        "    if loc >= 3:\n",
        "        new_state = str(loc-3) + puzzle[:loc-3] + puzzle[loc] + puzzle[loc-2:loc] + puzzle[loc-3] + puzzle[loc+1:]\n",
        "        ret.append((new_state, last_index+1, node[1], node[3]+1))\n",
        "        last_index += 1\n",
        "        # print('U' + new_state)\n",
        "    if loc <= 5:\n",
        "        new_state = str(loc+3) + puzzle[:loc] + puzzle[loc+3] + puzzle[loc+1:loc+3] + puzzle[loc] + puzzle[loc+4:]\n",
        "        ret.append((new_state, last_index+1, node[1], node[3]+1))\n",
        "        last_index += 1\n",
        "        # print('D' + new_state)\n",
        "    return ret\n",
        "\n",
        "def is_goal(node):\n",
        "    return node[0] == '8123456780'\n",
        "\n",
        "def insert_all(node, fringe):\n",
        "    children = gen_successors(node)\n",
        "    for child in children:\n",
        "        fringe.insert(0, child)\n",
        "\n",
        "def show_result(g, visited_node):\n",
        "    current_node = g\n",
        "    parent_index = current_node[1]\n",
        "    while True:\n",
        "        print(current_node[0][1:4])\n",
        "        print(current_node[0][4:7])\n",
        "        print(current_node[0][7:])\n",
        "        print()\n",
        "        parent_index = current_node[2]\n",
        "        if parent_index == -1:\n",
        "            break\n",
        "        current_node = visited_node[parent_index]\n",
        "\n",
        "def dfs(start_node, limited_level):\n",
        "    global last_index\n",
        "    last_index = 0\n",
        "    fringe = [start_node]\n",
        "    visited_node = {}\n",
        "\n",
        "    node_remove_counter = 0\n",
        "    node_insert_counter = 0\n",
        "\n",
        "    while True:\n",
        "        if len(fringe) == 0:\n",
        "            print('Not Found')\n",
        "            print(f\"Nodes removed from fringe: {node_remove_counter}\")\n",
        "            print(f\"Nodes inserted into fringe: {node_insert_counter}\")\n",
        "            break\n",
        "\n",
        "        front = fringe.pop(0)\n",
        "        node_remove_counter += 1\n",
        "\n",
        "        if front[3] > limited_level:\n",
        "            continue\n",
        "\n",
        "        visited_node[front[1]] = front\n",
        "\n",
        "        if is_goal(front):\n",
        "            print(f\"Nodes removed from fringe: {node_remove_counter}\")\n",
        "            print(f\"Nodes inserted into fringe: {node_insert_counter}\")\n",
        "            show_result(front, visited_node)\n",
        "            return True\n",
        "\n",
        "        children = gen_successors(front)\n",
        "        node_insert_counter += len(children)\n",
        "        for child in children:\n",
        "            fringe.insert(0, child)\n",
        "\n",
        "for i in range(14):\n",
        "    print(\"Limit Search at level \" + str(i+1))\n",
        "    if dfs(('8413256780', 0, -1, 0), i):\n",
        "        break\n",
        "\n",
        "\n"
      ],
      "execution_count": null,
      "outputs": [
        {
          "output_type": "stream",
          "name": "stdout",
          "text": [
            "Limit Search at level 1\n",
            "Not Found\n",
            "Nodes removed from fringe: 3\n",
            "Nodes inserted into fringe: 2\n",
            "Limit Search at level 2\n",
            "Not Found\n",
            "Nodes removed from fringe: 9\n",
            "Nodes inserted into fringe: 8\n",
            "Limit Search at level 3\n",
            "Not Found\n",
            "Nodes removed from fringe: 25\n",
            "Nodes inserted into fringe: 24\n",
            "Limit Search at level 4\n",
            "Not Found\n",
            "Nodes removed from fringe: 73\n",
            "Nodes inserted into fringe: 72\n",
            "Limit Search at level 5\n",
            "Not Found\n",
            "Nodes removed from fringe: 201\n",
            "Nodes inserted into fringe: 200\n",
            "Limit Search at level 6\n",
            "Not Found\n",
            "Nodes removed from fringe: 585\n",
            "Nodes inserted into fringe: 584\n",
            "Limit Search at level 7\n",
            "Not Found\n",
            "Nodes removed from fringe: 1609\n",
            "Nodes inserted into fringe: 1608\n",
            "Limit Search at level 8\n",
            "Not Found\n",
            "Nodes removed from fringe: 4681\n",
            "Nodes inserted into fringe: 4680\n",
            "Limit Search at level 9\n",
            "Nodes removed from fringe: 5964\n",
            "Nodes inserted into fringe: 5970\n",
            "123\n",
            "456\n",
            "780\n",
            "\n",
            "123\n",
            "450\n",
            "786\n",
            "\n",
            "123\n",
            "405\n",
            "786\n",
            "\n",
            "103\n",
            "425\n",
            "786\n",
            "\n",
            "013\n",
            "425\n",
            "786\n",
            "\n",
            "413\n",
            "025\n",
            "786\n",
            "\n",
            "413\n",
            "205\n",
            "786\n",
            "\n",
            "413\n",
            "250\n",
            "786\n",
            "\n",
            "413\n",
            "256\n",
            "780\n",
            "\n"
          ]
        }
      ]
    }
  ]
}